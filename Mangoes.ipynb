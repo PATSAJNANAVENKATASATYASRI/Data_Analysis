{
  "nbformat": 4,
  "nbformat_minor": 0,
  "metadata": {
    "colab": {
      "provenance": []
    },
    "kernelspec": {
      "name": "python3",
      "display_name": "Python 3"
    },
    "language_info": {
      "name": "python"
    }
  },
  "cells": [
    {
      "cell_type": "code",
      "execution_count": 1,
      "metadata": {
        "colab": {
          "base_uri": "https://localhost:8080/"
        },
        "id": "WdChzTOdnOG6",
        "outputId": "ba2fed00-7a31-40a8-81a6-acb41f5ece9b"
      },
      "outputs": [
        {
          "output_type": "stream",
          "name": "stdout",
          "text": [
            "Mounted at /content/drive\n"
          ]
        }
      ],
      "source": [
        "from google.colab import drive\n",
        "drive.mount('/content/drive')"
      ]
    },
    {
      "cell_type": "code",
      "source": [
        "import tensorflow as tf\n",
        "from tensorflow import keras\n",
        "from tensorflow.keras import layers\n",
        "from tensorflow.keras.preprocessing.image import ImageDataGenerator\n",
        "# Define image size and batch size\n",
        "IMG_SIZE = 224\n",
        "BATCH_SIZE = 32"
      ],
      "metadata": {
        "id": "ZhoU88MDuSp7"
      },
      "execution_count": 2,
      "outputs": []
    },
    {
      "cell_type": "code",
      "source": [
        "train_datagen = ImageDataGenerator(rescale=1./255,validation_split=0.2)\n",
        "train_generator = train_datagen.flow_from_directory('/content/drive/MyDrive/mangoes/train',target_size=(IMG_SIZE, IMG_SIZE),batch_size=BATCH_SIZE,class_mode='binary',subset='training')\n",
        "val_generator = train_datagen.flow_from_directory('/content/drive/MyDrive/mangoes/train',target_size=(IMG_SIZE, IMG_SIZE),batch_size=BATCH_SIZE,class_mode='binary',subset='validation')\n",
        "test_datagen = ImageDataGenerator(rescale=1./255)\n",
        "test_generator = test_datagen.flow_from_directory('/content/drive/MyDrive/mangoes/test',target_size=(IMG_SIZE, IMG_SIZE),batch_size=BATCH_SIZE,class_mode='binary')"
      ],
      "metadata": {
        "colab": {
          "base_uri": "https://localhost:8080/"
        },
        "id": "OaKWxHfpuV6P",
        "outputId": "b317a335-1729-42a2-bc63-299d864ee61a"
      },
      "execution_count": 3,
      "outputs": [
        {
          "output_type": "stream",
          "name": "stdout",
          "text": [
            "Found 136 images belonging to 2 classes.\n",
            "Found 33 images belonging to 2 classes.\n",
            "Found 0 images belonging to 0 classes.\n"
          ]
        }
      ]
    },
    {
      "cell_type": "code",
      "source": [
        "model = keras.Sequential(\n",
        "    [layers.Conv2D(32, (3, 3), activation='relu', input_shape=(IMG_SIZE, IMG_SIZE, 3)),\n",
        "    layers.MaxPooling2D((2, 2)),\n",
        "    layers.Conv2D(64, (3, 3), activation='relu'),\n",
        "    layers.MaxPooling2D((2, 2)),\n",
        "    layers.Conv2D(128, (3, 3), activation='relu'),\n",
        "    layers.MaxPooling2D((2, 2)),\n",
        "    layers.Flatten(),\n",
        "    layers.Dense(128, activation='relu'),\n",
        "    layers.Dense(1, activation='sigmoid')]\n",
        "    )"
      ],
      "metadata": {
        "id": "9kRkSgyWuaSM"
      },
      "execution_count": 4,
      "outputs": []
    },
    {
      "cell_type": "code",
      "source": [
        "# Compile the model\n",
        "model.compile(optimizer='adam', loss='binary_crossentropy', metrics=['accuracy'])"
      ],
      "metadata": {
        "id": "v9uwLyxiufpo"
      },
      "execution_count": 5,
      "outputs": []
    },
    {
      "cell_type": "code",
      "source": [
        "history = model.fit(train_generator,validation_data=val_generator,epochs=5)"
      ],
      "metadata": {
        "colab": {
          "base_uri": "https://localhost:8080/"
        },
        "id": "mC4BCYCnzQnM",
        "outputId": "fb6876e7-5032-4c33-c688-53d24e338daa"
      },
      "execution_count": 12,
      "outputs": [
        {
          "output_type": "stream",
          "name": "stdout",
          "text": [
            "Epoch 1/5\n",
            "5/5 [==============================] - 94s 17s/step - loss: 1.6216 - accuracy: 0.5147 - val_loss: 0.7301 - val_accuracy: 0.5455\n",
            "Epoch 2/5\n",
            "5/5 [==============================] - 17s 3s/step - loss: 0.5769 - accuracy: 0.7794 - val_loss: 0.6601 - val_accuracy: 0.5455\n",
            "Epoch 3/5\n",
            "5/5 [==============================] - 17s 3s/step - loss: 0.5945 - accuracy: 0.6912 - val_loss: 0.8309 - val_accuracy: 0.5455\n",
            "Epoch 4/5\n",
            "5/5 [==============================] - 17s 4s/step - loss: 0.3113 - accuracy: 0.9118 - val_loss: 0.5534 - val_accuracy: 0.6061\n",
            "Epoch 5/5\n",
            "5/5 [==============================] - 17s 3s/step - loss: 0.1167 - accuracy: 0.9779 - val_loss: 0.3721 - val_accuracy: 0.7576\n"
          ]
        }
      ]
    },
    {
      "cell_type": "code",
      "source": [
        "model.save(\"Model.h5\",\"label.txt\")"
      ],
      "metadata": {
        "colab": {
          "base_uri": "https://localhost:8080/"
        },
        "id": "A0mjE5D1ujlb",
        "outputId": "61aa9b92-44cf-4a32-f469-d3eecbfb8b31"
      },
      "execution_count": 6,
      "outputs": [
        {
          "output_type": "stream",
          "name": "stderr",
          "text": [
            "/usr/local/lib/python3.10/dist-packages/keras/src/engine/training.py:3103: UserWarning: You are saving your model as an HDF5 file via `model.save()`. This file format is considered legacy. We recommend using instead the native Keras format, e.g. `model.save('my_model.keras')`.\n",
            "  saving_api.save_model(\n"
          ]
        }
      ]
    },
    {
      "cell_type": "code",
      "source": [
        "#test your image\n",
        "from keras.models import load_model  # TensorFlow is required for Keras to work\n",
        "from PIL import Image, ImageOps  # Install pillow instead of PIL\n",
        "import numpy as np\n",
        "#load the model\n",
        "model = load_model('/content/Model.h5')\n",
        "#classes\n",
        "class_names = ['Ripe mango','Raw mango']\n",
        "data = np.ndarray(shape=(1, 224, 224, 3), dtype=np.float32)"
      ],
      "metadata": {
        "id": "qxSO4iceuxkO"
      },
      "execution_count": 8,
      "outputs": []
    },
    {
      "cell_type": "code",
      "source": [
        "image = Image.open(\"/content/drive/MyDrive/mangoes/test/edit10.jpg\").convert(\"RGB\")\n",
        "# resizing the image to be at leasit 224x224 and then cropping from the center\n",
        "size = (224, 224)\n",
        "image = ImageOps.fit(image, size, Image.Resampling.LANCZOS)\n",
        "# turn the image into a numpy array\n",
        "image_array = np.asarray(image)\n",
        "# Normalize the image\n",
        "normalized_image_array = (image_array.astype(np.float32) / 127.5) - 1\n",
        "# Load the image into the array\n",
        "data[0] = normalized_image_array"
      ],
      "metadata": {
        "id": "b31WeMdau1XJ"
      },
      "execution_count": 10,
      "outputs": []
    },
    {
      "cell_type": "code",
      "source": [
        "# Predicts the model\n",
        "prediction = model.predict(data)\n",
        "index = np.argmax(prediction)\n",
        "confidence_score = prediction[0][index]\n",
        "# Print prediction and confidence score\n",
        "print(\"Result: \", class_names[index], end=\"\")\n",
        "print(\"\\n\")\n",
        "print(\"Accuracy: \", confidence_score)"
      ],
      "metadata": {
        "colab": {
          "base_uri": "https://localhost:8080/"
        },
        "id": "yQyadba6u76Z",
        "outputId": "0b57e1f4-06b2-4883-e3a8-0591efabd62a"
      },
      "execution_count": 11,
      "outputs": [
        {
          "output_type": "stream",
          "name": "stdout",
          "text": [
            "1/1 [==============================] - 0s 249ms/step\n",
            "Result:  Ripe mango\n",
            "\n",
            "Accuracy:  0.48415378\n"
          ]
        }
      ]
    }
  ]
}